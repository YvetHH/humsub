{
 "cells": [
  {
   "cell_type": "code",
   "execution_count": 1,
   "id": "b389c51d-5dd5-4b42-8d04-c2be717225b6",
   "metadata": {},
   "outputs": [
    {
     "name": "stderr",
     "output_type": "stream",
     "text": [
      "/opt/anaconda3/envs/benchmark/lib/python3.11/site-packages/statsplot/dimred.py:436: UserWarning: Altair is not installed. Interactive plots are not available\n",
      "  warnings.warn(\"Altair is not installed. Interactive plots are not available\")\n"
     ]
    }
   ],
   "source": [
    "import pandas as pd\n",
    "import numpy as np\n",
    "\n",
    "import matplotlib.pyplot as plt\n",
    "import seaborn as sns\n",
    "\n",
    "import sys\n",
    "sys.path.append(\"../scripts/\")\n",
    "import benchmark\n",
    "\n",
    "from Bio import Entrez\n",
    "from collections import defaultdict"
   ]
  },
  {
   "cell_type": "code",
   "execution_count": 2,
   "id": "e24ba5ae-0392-4893-a12c-354e1b63bbb0",
   "metadata": {},
   "outputs": [],
   "source": [
    "def get_species_tax_id(strain_tax_id):\n",
    "    Entrez.email = \"trickovicmatijal@gmail.com\"\n",
    "    handle = Entrez.efetch(db=\"taxonomy\", id=strain_tax_id, retmode=\"xml\")\n",
    "    records = Entrez.read(handle)\n",
    "\n",
    "    if records:\n",
    "        record = records[0]\n",
    "        lineage = record[\"LineageEx\"]  # This is a list of all taxonomic levels for the strain\n",
    "        for taxon in lineage:\n",
    "            if taxon[\"Rank\"] == \"species\":\n",
    "                return taxon[\"TaxId\"]\n",
    "    return None\n",
    "\n",
    "def custom_map(key):\n",
    "    return mapped_ids[key] if key in mapped_ids and mapped_ids[key] is not None else key"
   ]
  },
  {
   "cell_type": "code",
   "execution_count": 3,
   "id": "5da98ab7-bc5e-4293-bb9b-330aaf4bf3f1",
   "metadata": {},
   "outputs": [],
   "source": [
    "humgut = pd.read_csv(\"HumGut.tsv\",sep='\\t')"
   ]
  },
  {
   "cell_type": "code",
   "execution_count": 4,
   "id": "61aab54d-42d7-44f1-9974-3fed72c1d188",
   "metadata": {},
   "outputs": [],
   "source": [
    "cami_metadata = pd.read_csv(\"post_recovery_post_humgut_cami_metadata.tsv\",sep='\\t')"
   ]
  },
  {
   "cell_type": "code",
   "execution_count": 5,
   "id": "8c2773cd-2d99-42f7-94fb-4b1dc0a76049",
   "metadata": {},
   "outputs": [
    {
     "name": "stdout",
     "output_type": "stream",
     "text": [
      "Couldn't find species tax id for 1121445\n"
     ]
    }
   ],
   "source": [
    "mapped_ids = defaultdict()\n",
    "not_mapped_ids = []\n",
    "for tax_id in cami_metadata['NCBI_ID'].unique():\n",
    "    try:\n",
    "        species_tax_id = get_species_tax_id(str(tax_id))\n",
    "        mapped_ids[tax_id] = species_tax_id\n",
    "    except:\n",
    "        print(f\"Couldn't find species tax id for {tax_id}\")\n",
    "        not_mapped_ids.append(tax_id)"
   ]
  },
  {
   "cell_type": "code",
   "execution_count": 6,
   "id": "0f8c1ee6-2342-4346-8de9-83e8e422b2a3",
   "metadata": {},
   "outputs": [],
   "source": [
    "cami_metadata['species_NCBI_ID'] = cami_metadata['NCBI_ID'].map(custom_map)"
   ]
  },
  {
   "cell_type": "code",
   "execution_count": 7,
   "id": "fb7d1fdf-4894-4e67-9006-ad81cb3d48a8",
   "metadata": {},
   "outputs": [],
   "source": [
    "genome_taxid_mapping = cami_metadata[['genome_ID','species_NCBI_ID']].set_index('genome_ID')['species_NCBI_ID']"
   ]
  },
  {
   "cell_type": "code",
   "execution_count": 8,
   "id": "47c58284-5bff-4548-868e-a6a9b4c41a80",
   "metadata": {},
   "outputs": [],
   "source": [
    "metaphlan_profile = pd.read_csv(\"merged_metaphlan.tsv\",sep='\\t')"
   ]
  },
  {
   "cell_type": "code",
   "execution_count": 9,
   "id": "5e764a15-4b10-4b12-a5bc-50ce488cd991",
   "metadata": {},
   "outputs": [],
   "source": [
    "metaphlan_profile = metaphlan_profile.loc[~metaphlan_profile['NCBI_tax_id'].isna()]"
   ]
  },
  {
   "cell_type": "code",
   "execution_count": 10,
   "id": "af0f35b9-527a-4869-8313-c73702ead0e1",
   "metadata": {},
   "outputs": [],
   "source": [
    "metaphlan_profile = metaphlan_profile.set_index(\"NCBI_tax_id\")\n",
    "metaphlan_profile.index = metaphlan_profile.index.astype(int)\n",
    "metaphlan_profile.index = metaphlan_profile.index.astype(str)"
   ]
  },
  {
   "cell_type": "code",
   "execution_count": 11,
   "id": "61d75830-32f1-4b3c-8787-e6e30684a7ae",
   "metadata": {},
   "outputs": [],
   "source": [
    "abundance_threshold = 0.0001"
   ]
  },
  {
   "cell_type": "code",
   "execution_count": 12,
   "id": "8e5c68fa-b56e-4bdb-b4d9-b91022a8f96e",
   "metadata": {},
   "outputs": [],
   "source": [
    "output_df = pd.DataFrame()\n",
    "to_remove = {}\n",
    "for sample in range(0,10):\n",
    "    sample_df = pd.read_csv(f\"distributions/distribution_{sample}.txt\",sep='\\t',header=None,index_col=0,names=[f'reference_sample{sample}'])\n",
    "    #temp_df = subsp_def.merge(sample_df,left_index=True,right_index=True).set_index('subspecies',drop=True)\n",
    "    sample_df.index = sample_df.index.map(genome_taxid_mapping)\n",
    "    temp_df = sample_df.T.groupby(level=0,axis=1).sum().T\n",
    "    to_remove[sample]=temp_df.loc[temp_df.iloc[:,0] < 0.0001].index.to_list()\n",
    "    output_df = pd.concat([output_df,temp_df],axis=1)\n",
    "    \n",
    "output_df = output_df.mask(output_df < abundance_threshold, 0)\n",
    "output_df.index = output_df.index.str[:4]\n",
    "output_df = output_df.groupby(level=0).sum()"
   ]
  },
  {
   "cell_type": "code",
   "execution_count": 13,
   "id": "8544bc25-d684-47a7-bc68-b0605a5d516d",
   "metadata": {},
   "outputs": [],
   "source": [
    "metaphlan_profile = metaphlan_profile.groupby(level=0).sum()\n",
    "metaphlan_profile.columns = \"test_\" + metaphlan_profile.columns\n",
    "relab = metaphlan_profile"
   ]
  },
  {
   "cell_type": "code",
   "execution_count": 14,
   "id": "f41fbe8d-2abb-4b2a-bd10-63973907bbc6",
   "metadata": {},
   "outputs": [],
   "source": [
    "test_df = pd.read_csv(\"merged_metaphlan.tsv\",sep='\\t',index_col=0)"
   ]
  },
  {
   "cell_type": "code",
   "execution_count": 15,
   "id": "8226c538-bbe5-4dd4-a61b-60702ff682b7",
   "metadata": {},
   "outputs": [],
   "source": [
    "test_df = test_df.loc[~test_df.index.isna()]"
   ]
  },
  {
   "cell_type": "code",
   "execution_count": 16,
   "id": "63d7ce1e-b1a4-46e1-90d1-8a7912e3e006",
   "metadata": {},
   "outputs": [],
   "source": [
    "test_df.index = test_df.index.astype(int).astype(str)"
   ]
  },
  {
   "cell_type": "code",
   "execution_count": 17,
   "id": "6f24fddf-5a16-4eea-95cd-c660b0edf72a",
   "metadata": {},
   "outputs": [],
   "source": [
    "test_df.columns = \"test_\" + test_df.columns"
   ]
  },
  {
   "cell_type": "code",
   "execution_count": 18,
   "id": "85fe6ba7-2f71-48e7-8b04-de4a378fc86e",
   "metadata": {},
   "outputs": [],
   "source": [
    "relab = test_df"
   ]
  },
  {
   "cell_type": "code",
   "execution_count": 31,
   "id": "cbd60759-af97-4072-83fd-1006e471e0de",
   "metadata": {},
   "outputs": [],
   "source": [
    "#relab.to_csv(\"metaphlan_performance.tsv\",sep='\\t')"
   ]
  },
  {
   "cell_type": "code",
   "execution_count": 20,
   "id": "b97c9672",
   "metadata": {},
   "outputs": [],
   "source": [
    "euc_distance_dict = defaultdict()\n",
    "for sample in range(0,10):\n",
    "    euc_distance = benchmark.l2_distance(relab[f'test_sample{sample}'],output_df[f'reference_sample{sample}'],subspecies=True)\n",
    "    euc_distance_dict[f'test_sample{sample}'] = euc_distance"
   ]
  },
  {
   "cell_type": "code",
   "execution_count": 21,
   "id": "dd737cd7-f18a-4fc5-9589-9a8900c0f6e6",
   "metadata": {},
   "outputs": [],
   "source": [
    "l2_dist = pd.DataFrame.from_dict(euc_distance_dict,orient='index')\n",
    "l2_dist.columns = ['L2_dist']\n",
    "#l2_dist.to_csv(\"metaphlan_dist.tsv\",sep='\\t')"
   ]
  },
  {
   "cell_type": "code",
   "execution_count": 22,
   "id": "a33fb146-dcf0-4453-9ff7-42eb2a351958",
   "metadata": {},
   "outputs": [
    {
     "data": {
      "text/html": [
       "<div>\n",
       "<style scoped>\n",
       "    .dataframe tbody tr th:only-of-type {\n",
       "        vertical-align: middle;\n",
       "    }\n",
       "\n",
       "    .dataframe tbody tr th {\n",
       "        vertical-align: top;\n",
       "    }\n",
       "\n",
       "    .dataframe thead th {\n",
       "        text-align: right;\n",
       "    }\n",
       "</style>\n",
       "<table border=\"1\" class=\"dataframe\">\n",
       "  <thead>\n",
       "    <tr style=\"text-align: right;\">\n",
       "      <th></th>\n",
       "      <th>L2_dist</th>\n",
       "    </tr>\n",
       "  </thead>\n",
       "  <tbody>\n",
       "    <tr>\n",
       "      <th>test_sample0</th>\n",
       "      <td>0.278630</td>\n",
       "    </tr>\n",
       "    <tr>\n",
       "      <th>test_sample1</th>\n",
       "      <td>0.280980</td>\n",
       "    </tr>\n",
       "    <tr>\n",
       "      <th>test_sample2</th>\n",
       "      <td>0.835552</td>\n",
       "    </tr>\n",
       "    <tr>\n",
       "      <th>test_sample3</th>\n",
       "      <td>0.434654</td>\n",
       "    </tr>\n",
       "    <tr>\n",
       "      <th>test_sample4</th>\n",
       "      <td>0.414383</td>\n",
       "    </tr>\n",
       "    <tr>\n",
       "      <th>test_sample5</th>\n",
       "      <td>0.478198</td>\n",
       "    </tr>\n",
       "    <tr>\n",
       "      <th>test_sample6</th>\n",
       "      <td>0.356589</td>\n",
       "    </tr>\n",
       "    <tr>\n",
       "      <th>test_sample7</th>\n",
       "      <td>0.294492</td>\n",
       "    </tr>\n",
       "    <tr>\n",
       "      <th>test_sample8</th>\n",
       "      <td>0.550031</td>\n",
       "    </tr>\n",
       "    <tr>\n",
       "      <th>test_sample9</th>\n",
       "      <td>1.133267</td>\n",
       "    </tr>\n",
       "  </tbody>\n",
       "</table>\n",
       "</div>"
      ],
      "text/plain": [
       "               L2_dist\n",
       "test_sample0  0.278630\n",
       "test_sample1  0.280980\n",
       "test_sample2  0.835552\n",
       "test_sample3  0.434654\n",
       "test_sample4  0.414383\n",
       "test_sample5  0.478198\n",
       "test_sample6  0.356589\n",
       "test_sample7  0.294492\n",
       "test_sample8  0.550031\n",
       "test_sample9  1.133267"
      ]
     },
     "execution_count": 22,
     "metadata": {},
     "output_type": "execute_result"
    }
   ],
   "source": [
    "l2_dist"
   ]
  },
  {
   "cell_type": "code",
   "execution_count": null,
   "id": "3930a458-60dd-4030-b5c4-c1c354b37a83",
   "metadata": {},
   "outputs": [],
   "source": []
  }
 ],
 "metadata": {
  "kernelspec": {
   "display_name": "Python 3 (ipykernel)",
   "language": "python",
   "name": "python3"
  },
  "language_info": {
   "codemirror_mode": {
    "name": "ipython",
    "version": 3
   },
   "file_extension": ".py",
   "mimetype": "text/x-python",
   "name": "python",
   "nbconvert_exporter": "python",
   "pygments_lexer": "ipython3",
   "version": "3.11.4"
  }
 },
 "nbformat": 4,
 "nbformat_minor": 5
}
